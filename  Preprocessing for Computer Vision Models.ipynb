{
  "nbformat": 4,
  "nbformat_minor": 0,
  "metadata": {
    "colab": {
      "private_outputs": true,
      "provenance": [],
      "authorship_tag": "ABX9TyPP5JXbfkcU3FAmd8IDQfYq",
      "include_colab_link": true
    },
    "kernelspec": {
      "name": "python3",
      "display_name": "Python 3"
    },
    "language_info": {
      "name": "python"
    }
  },
  "cells": [
    {
      "cell_type": "markdown",
      "metadata": {
        "id": "view-in-github",
        "colab_type": "text"
      },
      "source": [
        "<a href=\"https://colab.research.google.com/github/imumer68/Data_Preprocessing_Computer_Vision_Kaggle_Datasets_Google_Colab/blob/main/%20Preprocessing%20for%20Computer%20Vision%20Models.ipynb\" target=\"_parent\"><img src=\"https://colab.research.google.com/assets/colab-badge.svg\" alt=\"Open In Colab\"/></a>"
      ]
    },
    {
      "cell_type": "markdown",
      "source": [
        "# **Using Kaggle Datasets in Google Colab via Kaggle API**"
      ],
      "metadata": {
        "id": "UFXnp-sVotEk"
      }
    },
    {
      "cell_type": "markdown",
      "source": [
        "## Step 1: Install the Kaggle API"
      ],
      "metadata": {
        "id": "St0wK8GwnZB1"
      }
    },
    {
      "cell_type": "code",
      "execution_count": null,
      "metadata": {
        "id": "qOx6aTVTftly"
      },
      "outputs": [],
      "source": [
        "!pip install kaggle"
      ]
    },
    {
      "cell_type": "markdown",
      "source": [
        "## Step:2 Upload the Kaggle API Key to Colab"
      ],
      "metadata": {
        "id": "uUwT11bXniiD"
      }
    },
    {
      "cell_type": "code",
      "source": [
        "from google.colab import files\n",
        "files.upload()  # This will prompt you to upload the kaggle.json file"
      ],
      "metadata": {
        "id": "gyw9w8zKggqv"
      },
      "execution_count": null,
      "outputs": []
    },
    {
      "cell_type": "markdown",
      "source": [
        "## Step 3: Set Up Kaggle Credentials"
      ],
      "metadata": {
        "id": "aK6UrVR6nx-l"
      }
    },
    {
      "cell_type": "code",
      "source": [
        "!mkdir -p ~/.kaggle\n",
        "!cp kaggle.json ~/.kaggle/\n",
        "!chmod 600 ~/.kaggle/kaggle.json"
      ],
      "metadata": {
        "id": "h0Yqj1Lrgo6e"
      },
      "execution_count": null,
      "outputs": []
    },
    {
      "cell_type": "markdown",
      "source": [
        "## Step 4: Download Dataset from Kaggle"
      ],
      "metadata": {
        "id": "Cupud0Yjn8A3"
      }
    },
    {
      "cell_type": "code",
      "source": [
        "!kaggle datasets download -d amansingh0000000/image-classification-and-yolo-dataset"
      ],
      "metadata": {
        "id": "SAEaOI1Igxuz"
      },
      "execution_count": null,
      "outputs": []
    },
    {
      "cell_type": "markdown",
      "source": [
        "## Step 5: Unzip the Dataset"
      ],
      "metadata": {
        "id": "OEBg-V9OoEAe"
      }
    },
    {
      "cell_type": "code",
      "source": [
        "!unzip image-classification-and-yolo-dataset.zip -d /content/"
      ],
      "metadata": {
        "id": "88e9zJqFhCZV"
      },
      "execution_count": null,
      "outputs": []
    },
    {
      "cell_type": "code",
      "source": [
        "from PIL import Image\n",
        "\n",
        "img = Image.open('/content/Ambulance_Car/Train/001e6e78fbbbcdb4.jpg')\n",
        "img_resized = img.resize((224, 224))"
      ],
      "metadata": {
        "id": "0P4TCTlkhOvm"
      },
      "execution_count": null,
      "outputs": []
    },
    {
      "cell_type": "code",
      "source": [
        "import numpy as np\n",
        "\n",
        "img_array = np.array(img_resized)\n",
        "img_normalized = img_array / 255.0"
      ],
      "metadata": {
        "id": "IvHqz__biKsN"
      },
      "execution_count": null,
      "outputs": []
    },
    {
      "cell_type": "code",
      "source": [
        "from tensorflow.keras.preprocessing.image import ImageDataGenerator\n",
        "\n",
        "datagen = ImageDataGenerator(rotation_range=40,\n",
        "                             width_shift_range=0.2,\n",
        "                             height_shift_range=0.2,\n",
        "                             shear_range=0.2,\n",
        "                             zoom_range=0.2,\n",
        "                             horizontal_flip=True)\n",
        "\n",
        "img_augmented = datagen.random_transform(img_normalized)"
      ],
      "metadata": {
        "id": "TL9bCstoifB9"
      },
      "execution_count": null,
      "outputs": []
    },
    {
      "cell_type": "code",
      "source": [
        "img_gray = img.convert('L')  # Converts to grayscale"
      ],
      "metadata": {
        "id": "owypp3Vpis0i"
      },
      "execution_count": null,
      "outputs": []
    },
    {
      "cell_type": "code",
      "source": [
        "from sklearn.preprocessing import LabelBinarizer\n",
        "\n",
        "label_binarizer = LabelBinarizer()\n",
        "labels_encoded = label_binarizer.fit_transform(labels)\n",
        "\n"
      ],
      "metadata": {
        "id": "aNtxQKcnixTB"
      },
      "execution_count": null,
      "outputs": []
    },
    {
      "cell_type": "markdown",
      "source": [
        "# **Data Preprocessing for Computer Vision Models**"
      ],
      "metadata": {
        "id": "VprPRn_xmzN6"
      }
    },
    {
      "cell_type": "code",
      "source": [
        "import numpy as np\n",
        "import matplotlib.pyplot as plt\n",
        "from PIL import Image\n",
        "from tensorflow.keras.preprocessing.image import ImageDataGenerator\n",
        "\n",
        "# Load the image\n",
        "img = Image.open('/content/Ambulance_Car/Train/001e6e78fbbbcdb4.jpg')\n",
        "\n",
        "# Step 1: Image Resizing\n",
        "img_resized = img.resize((224, 224))\n",
        "\n",
        "# Step 2: Normalization\n",
        "img_array = np.array(img_resized) / 255.0\n",
        "\n",
        "# Step 3: Data Augmentation\n",
        "datagen = ImageDataGenerator(rotation_range=40,\n",
        "                             width_shift_range=0.2,\n",
        "                             height_shift_range=0.2,\n",
        "                             shear_range=0.2,\n",
        "                             zoom_range=0.2,\n",
        "                             horizontal_flip=True)\n",
        "img_augmented = datagen.random_transform(img_array)\n",
        "\n",
        "# Display the images\n",
        "fig, ax = plt.subplots(1, 3, figsize=(15, 5))\n",
        "\n",
        "# Original Image\n",
        "ax[0].imshow(img)\n",
        "ax[0].set_title(\"Original Image\")\n",
        "ax[0].axis('off')\n",
        "\n",
        "# Resized and Normalized Image\n",
        "ax[1].imshow(img_resized)\n",
        "ax[1].set_title(\"Resized and Normalized\")\n",
        "ax[1].axis('off')\n",
        "\n",
        "# Augmented Image\n",
        "ax[2].imshow(img_augmented)\n",
        "ax[2].set_title(\"Augmented Image\")\n",
        "ax[2].axis('off')\n",
        "\n",
        "plt.show()\n"
      ],
      "metadata": {
        "id": "uWrITCB5i0UN"
      },
      "execution_count": null,
      "outputs": []
    },
    {
      "cell_type": "code",
      "source": [],
      "metadata": {
        "id": "oPENURSajcVe"
      },
      "execution_count": null,
      "outputs": []
    }
  ]
}